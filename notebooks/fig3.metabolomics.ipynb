{
 "cells": [
  {
   "cell_type": "code",
   "execution_count": 135,
   "metadata": {
    "ExecuteTime": {
     "end_time": "2019-04-01T11:28:39.645531Z",
     "start_time": "2019-04-01T11:28:39.617047Z"
    }
   },
   "outputs": [
    {
     "name": "stdout",
     "output_type": "stream",
     "text": [
      "Warning: Cannot change to a different GUI toolkit: notebook. Using widget instead.\n"
     ]
    }
   ],
   "source": [
    "%matplotlib notebook"
   ]
  },
  {
   "cell_type": "code",
   "execution_count": 136,
   "metadata": {},
   "outputs": [],
   "source": [
    "%matplotlib widget"
   ]
  },
  {
   "cell_type": "code",
   "execution_count": 137,
   "metadata": {
    "ExecuteTime": {
     "end_time": "2019-04-01T11:28:40.256019Z",
     "start_time": "2019-04-01T11:28:39.647818Z"
    }
   },
   "outputs": [],
   "source": [
    "import calour as ca\n",
    "from calour.training import plot_roc\n",
    "from skbio.diversity import beta_diversity\n",
    "from skbio.stats.ordination import pcoa\n",
    "from sklearn.metrics import roc_curve\n",
    "from sklearn.ensemble import RandomForestClassifier\n",
    "from sklearn.model_selection import GroupKFold\n",
    "from sklearn.metrics import roc_auc_score, auc\n",
    "from emperor import Emperor, nbinstall\n",
    "from matplotlib.backends.backend_pdf import PdfPages"
   ]
  },
  {
   "cell_type": "code",
   "execution_count": 138,
   "metadata": {
    "ExecuteTime": {
     "end_time": "2019-04-01T11:28:41.873704Z",
     "start_time": "2019-04-01T11:28:40.533273Z"
    },
    "scrolled": true
   },
   "outputs": [
    {
     "name": "stdout",
     "output_type": "stream",
     "text": [
      "2019-04-04 21:09:32 WARNING These have metadata but do not have data - dropped (343): {'11548.A18.97.6', '11548.A19.101.6', '11548.A21.111.19', '11548.A19.104.12', '11548.A23.120.13', '11548.A23.117.19', '11548.A20.108.9', '11548.A21.111.9', '11548.A22.114.11', '11548.A21.110.16', '11548.A18.99.9', '11548.A18.97.7', '11548.A21.112.9', '11548.A20.108.17', '11548.A19.102.14', '11548.A19.103.9', '11548.A19.101.11', '11548.A21.111.16', '11548.A22.114.2', '11548.A21.111.7', '11548.A23.119.14', '11548.A18.100.14', '11548.A19.103.3', '11548.A21.109.16', '11548.A22.116.13', '11548.A19.101.4', '11548.A23.119.11', '11548.A18.99.13', '11548.A20.107.2', '11548.A19.104.2', '11548.A21.110.11', '11548.A18.100.4', '11548.A22.116.3', '11548.A22.113.16', '11548.A21.109.18', '11548.A18.100.13', '11548.A22.113.2', '11548.A18.98.7', '11548.A21.112.12', '11548.A18.99.6', '11548.A21.112.4', '11548.A19.104.9', '11548.A20.107.17', '11548.A21.111.17', '11548.A21.111.3', '11548.A20.107.7', '11548.A21.112.11', '11548.A21.111.14', '11548.A20.107.9', '11548.A23.118.8', '11548.A22.114.4', '11548.A23.118.4', '11548.A19.104.16', '11548.A23.120.6', '11548.A20.107.11', '11548.A18.98.8', '11548.A22.114.6', '11548.A21.111.6', '11548.A19.101.8', '11548.A20.106.11', '11548.A19.101.17', '11548.A20.107.12', '11548.A22.115.19', '11548.A19.101.2', '11548.A19.104.4', '11548.A19.104.18', '11548.A18.100.12', '11548.A23.119.6', '11548.A20.105.7', '11548.A23.117.14', '11548.A19.103.4', '11548.A22.116.16', '11548.A20.106.13', '11548.A23.117.7', '11548.A23.119.18', '11548.A23.118.9', '11548.A18.97.3', '11548.A20.107.16', '11548.A23.120.14', '11548.A22.115.14', '11548.A22.116.18', '11548.A20.105.19', '11548.A21.112.7', '11548.A21.111.4', '11548.A18.97.11', '11548.A18.98.11', '11548.A21.110.18', '11548.A21.112.14', '11548.A21.110.4', '11548.A22.115.9', '11548.A18.100.7', '11548.A22.116.8', '11548.A18.100.6', '11548.A23.118.2', '11548.A18.99.18', '11548.A18.97.19', '11548.A19.104.19', '11548.A23.120.17', '11548.A23.117.18', '11548.A21.110.19', '11548.A21.112.3', '11548.A21.109.17', '11548.A20.108.13', '11548.A23.119.19', '11548.A21.110.2', '11548.A21.109.2', '11548.A20.107.4', '11548.A23.118.19', '11548.A23.117.12', '11548.A18.100.17', '11548.A22.114.17', '11548.A23.118.3', '11548.A18.99.7', '11548.A23.118.6', '11548.A22.116.19', '11548.A19.104.6', '11548.A22.116.14', '11548.A20.108.16', '11548.A18.98.4', '11548.A20.106.16', '11548.A22.115.18', '11548.A18.97.9', '11548.A21.110.17', '11548.A20.106.6', '11548.A22.115.6', '11548.A22.115.16', '11548.A19.104.11', '11548.A20.106.8', '11548.A23.118.11', '11548.A18.98.13', '11548.A18.98.9', '11548.A23.120.16', '11548.A20.107.18', '11548.A22.116.6', '11548.A21.111.13', '11548.A19.101.14', '11548.A21.109.13', '11548.A18.98.17', '11548.A19.102.17', '11548.A23.120.9', '11548.A22.113.6', '11548.A22.113.3', '11548.A20.108.2', '11548.A18.100.9', '11548.A20.107.3', '11548.A18.100.16', '11548.A18.100.3', '11548.A20.106.9', '11548.A20.105.2', '11548.A22.113.12', '11548.A22.113.14', '11548.A18.97.13', '11548.A22.116.17', '11548.A19.102.6', '11548.A22.116.12', '11548.A18.98.12', '11548.A21.112.6', '11548.A21.109.11', '11548.A20.108.12', '11548.A21.110.6', '11548.A18.99.14', '11548.A23.117.8', '11548.A18.99.19', '11548.A18.98.3', '11548.A19.103.11', '11548.A21.109.7', '11548.A23.120.18', '11548.A20.108.4', '11548.A19.104.13', '11548.A20.106.4', '11548.A20.105.18', '11548.A22.113.7', '11548.A18.99.12', '11548.A18.100.18', '11548.A23.120.8', '11548.A23.117.13', '11548.A23.118.17', '11548.A19.102.13', '11548.A22.114.3', '11548.A18.99.17', '11548.A23.117.11', '11548.A20.105.17', '11548.A21.110.8', '11548.A23.119.2', '11548.A20.108.14', '11548.A22.113.17', '11548.A18.100.2', '11548.A22.114.7', '11548.A19.101.13', '11548.A22.114.18', '11548.A19.104.17', '11548.A22.113.13', '11548.A22.114.8', '11548.A23.117.9', '11548.A22.116.7', '11548.A21.112.2', '11548.A22.114.19', '11548.A19.103.8', '11548.A20.106.2', '11548.A22.114.13', '11548.A20.105.12', '11548.A22.115.3', '11548.A23.120.4', '11548.A20.108.7', '11548.A23.120.12', '11548.A18.99.2', '11548.A18.99.8', '11548.A20.105.4', '11548.A19.101.16', '11548.A20.108.3', '11548.A22.114.9', '11548.A21.112.16', '11548.A21.110.7', '11548.A22.115.11', '11548.A21.109.14', '11548.A19.101.3', '11548.A20.108.19', '11548.A19.102.19', '11548.A19.103.2', '11548.A18.97.16', '11548.A22.114.16', '11548.A22.115.2', '11548.A20.106.19', '11548.A23.118.13', '11548.A22.115.4', '11548.A19.102.18', '11548.A22.115.17', '11548.A18.99.3', '11548.A21.112.8', '11548.A19.102.4', '11548.A23.117.16', '11548.A19.102.11', '11548.A19.103.6', '11548.A19.101.9', '11548.A23.119.7', '11548.A21.109.6', '11548.A23.118.14', '11548.A18.97.8', '11548.A21.112.18', '11548.A23.119.4', '11548.A22.115.8', '11548.A19.104.7', '11548.A18.97.17', '11548.A18.97.14', '11548.A19.104.3', '11548.A21.110.14', '11548.A21.110.12', '11548.A23.119.16', '11548.A18.98.18', '11548.A22.116.2', '11548.A20.108.18', '11548.A20.106.17', '11548.A21.109.8', '11548.A23.120.2', '11548.A22.116.4', '11548.A21.111.11', '11548.A22.113.19', '11548.A21.112.13', '11548.A20.106.3', '11548.A21.111.2', '11548.A19.102.3', '11548.A23.119.13', '11548.A21.109.3', '11548.A20.105.3', '11548.A19.103.7', '11548.A23.120.11', '11548.A23.118.16', '11548.A20.106.14', '11548.A21.112.17', '11548.A18.99.4', '11548.A18.100.8', '11548.A20.108.8', '11548.A23.117.3', '11548.A21.110.9', '11548.A19.102.2', '11548.A19.102.8', '11548.A18.98.19', '11548.A21.109.4', '11548.A21.110.13', '11548.A22.114.14', '11548.A23.119.17', '11548.A20.106.12', '11548.A20.105.8', '11548.A23.119.12', '11548.A23.120.19', '11548.A18.98.14', '11548.A23.117.17', '11548.A20.108.11', '11548.A23.118.12', '11548.A20.106.18', '11548.A23.118.18', '11548.A18.97.12', '11548.A22.115.13', '11548.A18.99.11', '11548.A19.102.16', '11548.A20.108.6', '11548.A23.117.4', '11548.A21.109.9', '11548.A19.102.9', '11548.A19.101.18', '11548.A21.111.18', '11548.A21.112.19', '11548.A19.101.12', '11548.A23.118.7', '11548.A20.105.6', '11548.A18.98.2', '11548.A22.116.9', '11548.A23.117.2', '11548.A18.98.16', '11548.A20.105.14', '11548.A18.97.18', '11548.A21.109.12', '11548.A21.109.19', '11548.A22.114.12', '11548.A22.113.18', '11548.A19.104.14', '11548.A20.107.14', '11548.A20.107.19', '11548.A19.101.7', '11548.A22.113.9', '11548.A18.98.6', '11548.A19.104.8', '11548.A23.120.3', '11548.A18.97.2', '11548.A20.107.13', '11548.A21.111.8', '11548.A20.107.6', '11548.A19.101.19', '11548.A23.119.8', '11548.A21.111.12', '11548.A23.119.9', '11548.A20.105.9', '11548.A19.102.7', '11548.A21.110.3', '11548.A22.115.12', '11548.A20.105.16', '11548.A18.97.4', '11548.A23.120.7', '11548.A18.100.11', '11548.A20.105.13', '11548.A18.100.19', '11548.A22.113.11', '11548.A23.119.3'}\n",
      "2019-04-04 21:09:32 WARNING These have data but do not have metadata: {'11548.A16.89.5', '10422.27.F.2', '11548.A17.93.10', '11548.A17.95.15', '10422.23.F.7', '10422.26.F.2', '11548.A17.96.1', '11548.A15.88.5', '10422.30.F.12', '11548.A17.93.15', '10422.25.F.1', '10422.32.F.2', '11548.A16.90.1', '11548.A17.94.5', '10422.32.F.13', '11548.A17.94.20', '10422.31.F.1', '11548.A17.94.10', '11548.A16.91.1', '11548.A16.90.5', '11548.A15.86.1', '11548.A15.87.10', '10422.29.F.2', '11548.A17.94.1', '11548.A15.87.20', '10422.25.F.2', '10422.27.F.1', '11548.A15.85.10', '11548.A16.91.20', '11548.A15.86.15', '11548.A15.85.1', '10422.18.F.2', '11548.A17.94.15', '11548.A15.88.10', '11548.A16.89.15', '11548.A16.92.5', '10422.23.F.11', '10422.18.F.1', '11548.A16.91.15', '11548.A17.93.20', '11548.A16.90.20', '11548.A15.88.1', '11548.A15.86.5', '11548.A16.91.10', '11548.A16.90.10', '11548.A17.93.1', '11548.A17.96.20', '11548.A16.92.20', '10422.27.F.4', '11548.A16.92.15', '11548.A17.93.5', '10422.17.F.2', '11548.A17.96.15', '10422.26.F.1', '10422.30.F.1', '10422.21.F.1', '11548.A17.96.5', '11548.A15.85.15', '11548.A17.95.1', '11548.A16.91.5', '11548.A17.95.10', '10422.24.F.3', '11548.A16.92.1', '11548.A17.96.10', '11548.A15.86.20', '11548.A17.95.20', '11548.A16.89.1', '11548.A15.87.1', '11548.A16.89.20', '11548.A16.90.15', '11548.A16.92.10', '11548.A15.86.10', '11548.A17.95.5', '11548.A15.88.15', '10422.20.F.2', '11548.A15.87.5', '11548.A16.89.10', '11548.A15.85.5', '10422.28.F.2', '10422.24.F.1', '11548.A19.102.20', '10422.19.F.1', '10422.23.F.1', '11548.A15.85.20', '10422.17.F.1', '11548.A15.88.20'}\n"
     ]
    }
   ],
   "source": [
    "exp = ca.read('data/metabolome/features_TSNnorm.txt', 'data/combined_sample_metadata_HFD.txt',\n",
    "             normalize=100, feature_metadata_file='data/metabolome/annotations_wStandards.txt')\n",
    "\n",
    "exp = exp.filter_samples('body_habitat', 'UBERON:feces').filter_samples('diet', 'HFD')"
   ]
  },
  {
   "cell_type": "code",
   "execution_count": 139,
   "metadata": {
    "ExecuteTime": {
     "end_time": "2019-04-01T11:28:41.879929Z",
     "start_time": "2019-04-01T11:28:41.875684Z"
    }
   },
   "outputs": [
    {
     "data": {
      "text/plain": [
       "Experiment (\"features_TSNnorm.txt\") with 299 samples, 1889 features"
      ]
     },
     "execution_count": 139,
     "metadata": {},
     "output_type": "execute_result"
    }
   ],
   "source": [
    "exp"
   ]
  },
  {
   "cell_type": "markdown",
   "metadata": {},
   "source": [
    "# APOE and LDLR models"
   ]
  },
  {
   "cell_type": "code",
   "execution_count": 140,
   "metadata": {
    "ExecuteTime": {
     "end_time": "2019-04-01T11:28:42.846045Z",
     "start_time": "2019-04-01T11:28:42.805409Z"
    }
   },
   "outputs": [
    {
     "data": {
      "text/plain": [
       "Experiment (\"features_TSNnorm.txt\") with 263 samples, 961 features"
      ]
     },
     "execution_count": 140,
     "metadata": {},
     "output_type": "execute_result"
    }
   ],
   "source": [
    "# filtering features if the abundance is less than 'cutoff' in 'fraction' of samples in either 'field'\n",
    "exp2 = exp.filter_prevalence(field='genotype', cutoff=0.1, fraction=0.001).filter_samples('age', [10, 10.5], negate=True)\n",
    "exp2"
   ]
  },
  {
   "cell_type": "code",
   "execution_count": 141,
   "metadata": {
    "ExecuteTime": {
     "end_time": "2019-04-01T11:28:43.779650Z",
     "start_time": "2019-04-01T11:28:43.765429Z"
    }
   },
   "outputs": [
    {
     "data": {
      "text/plain": [
       "Experiment (\"features_TSNnorm.txt\") with 263 samples, 961 features"
      ]
     },
     "execution_count": 141,
     "metadata": {},
     "output_type": "execute_result"
    }
   ],
   "source": [
    "# filter samples not labeled as Apoe or ldlr\n",
    "exp2 = exp2.filter_samples('genotype', ['ApoE KO','LDLR KO'])\n",
    "exp2"
   ]
  },
  {
   "cell_type": "code",
   "execution_count": 142,
   "metadata": {
    "ExecuteTime": {
     "end_time": "2019-04-01T11:28:44.465995Z",
     "start_time": "2019-04-01T11:28:44.454363Z"
    },
    "scrolled": true
   },
   "outputs": [
    {
     "data": {
      "text/plain": [
       "LDLR KO    170\n",
       "ApoE KO     93\n",
       "Name: genotype, dtype: int64"
      ]
     },
     "execution_count": 142,
     "metadata": {},
     "output_type": "execute_result"
    }
   ],
   "source": [
    "exp2.sample_metadata.genotype.value_counts()"
   ]
  },
  {
   "cell_type": "code",
   "execution_count": 143,
   "metadata": {
    "ExecuteTime": {
     "end_time": "2019-04-01T11:28:45.012361Z",
     "start_time": "2019-04-01T11:28:44.997658Z"
    }
   },
   "outputs": [
    {
     "data": {
      "text/plain": [
       "Air    48\n",
       "IHH    45\n",
       "Name: exposure_type, dtype: int64"
      ]
     },
     "execution_count": 143,
     "metadata": {},
     "output_type": "execute_result"
    }
   ],
   "source": [
    "exp2_apoe = exp2.filter_samples('genotype', 'ApoE KO')\n",
    "exp2_apoe.sample_metadata.exposure_type.value_counts()"
   ]
  },
  {
   "cell_type": "code",
   "execution_count": 144,
   "metadata": {
    "ExecuteTime": {
     "end_time": "2019-04-01T11:28:45.564410Z",
     "start_time": "2019-04-01T11:28:45.548896Z"
    }
   },
   "outputs": [
    {
     "data": {
      "text/plain": [
       "IHH    85\n",
       "Air    85\n",
       "Name: exposure_type, dtype: int64"
      ]
     },
     "execution_count": 144,
     "metadata": {},
     "output_type": "execute_result"
    }
   ],
   "source": [
    "exp2_ldlr = exp2.filter_samples('genotype', 'LDLR KO')\n",
    "exp2_ldlr.sample_metadata.exposure_type.value_counts()"
   ]
  },
  {
   "cell_type": "markdown",
   "metadata": {},
   "source": [
    "## apoe to ldlr"
   ]
  },
  {
   "cell_type": "code",
   "execution_count": 9,
   "metadata": {
    "ExecuteTime": {
     "end_time": "2019-04-01T11:28:53.976950Z",
     "start_time": "2019-04-01T11:28:46.645730Z"
    }
   },
   "outputs": [
    {
     "data": {
      "text/html": [
       "<div>\n",
       "<style scoped>\n",
       "    .dataframe tbody tr th:only-of-type {\n",
       "        vertical-align: middle;\n",
       "    }\n",
       "\n",
       "    .dataframe tbody tr th {\n",
       "        vertical-align: top;\n",
       "    }\n",
       "\n",
       "    .dataframe thead th {\n",
       "        text-align: right;\n",
       "    }\n",
       "</style>\n",
       "<table border=\"1\" class=\"dataframe\">\n",
       "  <thead>\n",
       "    <tr style=\"text-align: right;\">\n",
       "      <th></th>\n",
       "      <th>age</th>\n",
       "      <th>AUC</th>\n",
       "    </tr>\n",
       "  </thead>\n",
       "  <tbody>\n",
       "    <tr>\n",
       "      <th>0</th>\n",
       "      <td>12.0</td>\n",
       "      <td>1.0</td>\n",
       "    </tr>\n",
       "    <tr>\n",
       "      <th>1</th>\n",
       "      <td>14.5</td>\n",
       "      <td>1.0</td>\n",
       "    </tr>\n",
       "    <tr>\n",
       "      <th>2</th>\n",
       "      <td>17.0</td>\n",
       "      <td>1.0</td>\n",
       "    </tr>\n",
       "    <tr>\n",
       "      <th>3</th>\n",
       "      <td>19.5</td>\n",
       "      <td>1.0</td>\n",
       "    </tr>\n",
       "  </tbody>\n",
       "</table>\n",
       "</div>"
      ],
      "text/plain": [
       "    age  AUC\n",
       "0  12.0  1.0\n",
       "1  14.5  1.0\n",
       "2  17.0  1.0\n",
       "3  19.5  1.0"
      ]
     },
     "execution_count": 9,
     "metadata": {},
     "output_type": "execute_result"
    }
   ],
   "source": [
    "points = exp2_apoe.sample_metadata.age.unique()\n",
    "points_accuracy = []\n",
    "for i in np.sort(points):\n",
    "    exp_ = exp2_apoe.filter_samples('age', i)\n",
    "    it_apoe = exp_.classify('exposure_type',\n",
    "                            RandomForestClassifier(n_estimators=500, random_state=9),\n",
    "                            GroupKFold(5).split(exp_.data, exp_.sample_metadata['exposure_type'], exp_.sample_metadata['mouse_number']))\n",
    "    res_apoe = next(it_apoe)\n",
    "    s = roc_auc_score(res_apoe['Y_TRUE']=='IHH', res_apoe['IHH'])\n",
    "    points_accuracy.append([i, s])\n",
    "\n",
    "points_df = pd.DataFrame(points_accuracy, columns=['age', 'AUC'])\n",
    "points_df"
   ]
  },
  {
   "cell_type": "code",
   "execution_count": 11,
   "metadata": {
    "ExecuteTime": {
     "end_time": "2019-04-01T11:29:14.062456Z",
     "start_time": "2019-04-01T11:28:53.978771Z"
    }
   },
   "outputs": [
    {
     "data": {
      "text/html": [
       "<div>\n",
       "<style scoped>\n",
       "    .dataframe tbody tr th:only-of-type {\n",
       "        vertical-align: middle;\n",
       "    }\n",
       "\n",
       "    .dataframe tbody tr th {\n",
       "        vertical-align: top;\n",
       "    }\n",
       "\n",
       "    .dataframe thead th {\n",
       "        text-align: right;\n",
       "    }\n",
       "</style>\n",
       "<table border=\"1\" class=\"dataframe\">\n",
       "  <thead>\n",
       "    <tr style=\"text-align: right;\">\n",
       "      <th></th>\n",
       "      <th>age</th>\n",
       "      <th>AUC</th>\n",
       "    </tr>\n",
       "  </thead>\n",
       "  <tbody>\n",
       "    <tr>\n",
       "      <th>0</th>\n",
       "      <td>11.0</td>\n",
       "      <td>0.946429</td>\n",
       "    </tr>\n",
       "    <tr>\n",
       "      <th>1</th>\n",
       "      <td>11.5</td>\n",
       "      <td>1.000000</td>\n",
       "    </tr>\n",
       "    <tr>\n",
       "      <th>2</th>\n",
       "      <td>12.0</td>\n",
       "      <td>0.890625</td>\n",
       "    </tr>\n",
       "    <tr>\n",
       "      <th>3</th>\n",
       "      <td>12.5</td>\n",
       "      <td>0.875000</td>\n",
       "    </tr>\n",
       "    <tr>\n",
       "      <th>4</th>\n",
       "      <td>13.0</td>\n",
       "      <td>0.946429</td>\n",
       "    </tr>\n",
       "    <tr>\n",
       "      <th>5</th>\n",
       "      <td>13.5</td>\n",
       "      <td>0.968750</td>\n",
       "    </tr>\n",
       "    <tr>\n",
       "      <th>6</th>\n",
       "      <td>14.0</td>\n",
       "      <td>0.968750</td>\n",
       "    </tr>\n",
       "    <tr>\n",
       "      <th>7</th>\n",
       "      <td>14.5</td>\n",
       "      <td>1.000000</td>\n",
       "    </tr>\n",
       "    <tr>\n",
       "      <th>8</th>\n",
       "      <td>15.0</td>\n",
       "      <td>1.000000</td>\n",
       "    </tr>\n",
       "    <tr>\n",
       "      <th>9</th>\n",
       "      <td>15.5</td>\n",
       "      <td>0.964286</td>\n",
       "    </tr>\n",
       "    <tr>\n",
       "      <th>10</th>\n",
       "      <td>16.0</td>\n",
       "      <td>1.000000</td>\n",
       "    </tr>\n",
       "  </tbody>\n",
       "</table>\n",
       "</div>"
      ],
      "text/plain": [
       "     age       AUC\n",
       "0   11.0  0.946429\n",
       "1   11.5  1.000000\n",
       "2   12.0  0.890625\n",
       "3   12.5  0.875000\n",
       "4   13.0  0.946429\n",
       "5   13.5  0.968750\n",
       "6   14.0  0.968750\n",
       "7   14.5  1.000000\n",
       "8   15.0  1.000000\n",
       "9   15.5  0.964286\n",
       "10  16.0  1.000000"
      ]
     },
     "execution_count": 11,
     "metadata": {},
     "output_type": "execute_result"
    }
   ],
   "source": [
    "points = exp2_ldlr.sample_metadata.age.unique()\n",
    "points_accuracy = []\n",
    "res_ = []\n",
    "for i in np.sort(points):\n",
    "    exp_ = exp2_ldlr.filter_samples('age', i)\n",
    "    it = exp_.classify('exposure_type',\n",
    "                        RandomForestClassifier(n_estimators=500, random_state=9),\n",
    "                        GroupKFold(5).split(exp_.data, exp_.sample_metadata['exposure_type'], exp_.sample_metadata['mouse_number']))\n",
    "    res = next(it)\n",
    "    res['age'] = i\n",
    "    res_.append(res)\n",
    "    s = roc_auc_score(res['Y_TRUE']=='IHH', res['IHH'])\n",
    "    points_accuracy.append([i, s])\n",
    "res_df = pd.concat(res_, axis=0)\n",
    "points_df = pd.DataFrame(points_accuracy, columns=['age', 'AUC'])\n",
    "points_df"
   ]
  },
  {
   "cell_type": "markdown",
   "metadata": {},
   "source": [
    "# diff abundance"
   ]
  },
  {
   "cell_type": "code",
   "execution_count": 12,
   "metadata": {
    "ExecuteTime": {
     "end_time": "2019-04-01T11:29:14.542342Z",
     "start_time": "2019-04-01T11:29:14.068549Z"
    }
   },
   "outputs": [],
   "source": [
    "exp2_apoe_diff = exp2_apoe.diff_abundance('exposure_type', val1='Air', val2='IHH', alpha=0.01)"
   ]
  },
  {
   "cell_type": "code",
   "execution_count": 13,
   "metadata": {
    "ExecuteTime": {
     "end_time": "2019-04-01T11:29:15.048926Z",
     "start_time": "2019-04-01T11:29:14.544358Z"
    }
   },
   "outputs": [],
   "source": [
    "exp2_ldlr_diff = exp2_ldlr.diff_abundance('exposure_type', val1='Air', val2='IHH', alpha=0.01)"
   ]
  },
  {
   "cell_type": "code",
   "execution_count": 14,
   "metadata": {
    "ExecuteTime": {
     "end_time": "2019-04-01T11:29:15.053006Z",
     "start_time": "2019-04-01T11:29:15.050331Z"
    }
   },
   "outputs": [],
   "source": [
    "fids = set(exp2_apoe_diff.feature_metadata.index) & set(exp2_ldlr_diff.feature_metadata.index)"
   ]
  },
  {
   "cell_type": "code",
   "execution_count": 15,
   "metadata": {
    "ExecuteTime": {
     "end_time": "2019-04-01T11:29:15.080647Z",
     "start_time": "2019-04-01T11:29:15.054874Z"
    }
   },
   "outputs": [
    {
     "data": {
      "text/plain": [
       "100"
      ]
     },
     "execution_count": 15,
     "metadata": {},
     "output_type": "execute_result"
    }
   ],
   "source": [
    "len(fids)"
   ]
  },
  {
   "cell_type": "code",
   "execution_count": 16,
   "metadata": {
    "ExecuteTime": {
     "end_time": "2019-04-01T11:29:15.097030Z",
     "start_time": "2019-04-01T11:29:15.082612Z"
    }
   },
   "outputs": [
    {
     "data": {
      "text/plain": [
       "(263, 961)"
      ]
     },
     "execution_count": 16,
     "metadata": {},
     "output_type": "execute_result"
    }
   ],
   "source": [
    "exp2.shape"
   ]
  },
  {
   "cell_type": "code",
   "execution_count": 17,
   "metadata": {
    "ExecuteTime": {
     "end_time": "2019-04-01T11:29:46.796017Z",
     "start_time": "2019-04-01T11:29:46.496523Z"
    }
   },
   "outputs": [],
   "source": [
    "features = []\n",
    "for i in fids:\n",
    "    df = pd.DataFrame({'abundance': exp2[:, i],\n",
    "                       'taxonomy': exp2.feature_metadata.loc[i, 'LibraryID'],\n",
    "                       'standard_BA': exp2.feature_metadata.loc[i, 'standard_indentification_level_1'],\n",
    "                       'feature': i,\n",
    "                       'genotype': exp2.sample_metadata['genotype'],\n",
    "                       'age': exp2.sample_metadata['age'],\n",
    "                       'exposure_type': exp2.sample_metadata['exposure_type']})\n",
    "    #df['taxonomy'] = \n",
    "    features.append(df)\n",
    "\n",
    "features = pd.concat(features, axis=0)\n",
    "\n",
    "features.to_csv('common-diff-metabs.tsv', sep='\\t')"
   ]
  },
  {
   "cell_type": "code",
   "execution_count": 18,
   "metadata": {
    "ExecuteTime": {
     "end_time": "2019-04-01T11:29:48.612103Z",
     "start_time": "2019-04-01T11:29:48.607785Z"
    }
   },
   "outputs": [],
   "source": [
    "from sklearn.metrics import roc_auc_score"
   ]
  },
  {
   "cell_type": "code",
   "execution_count": 19,
   "metadata": {
    "ExecuteTime": {
     "end_time": "2019-04-01T11:29:54.484020Z",
     "start_time": "2019-04-01T11:29:54.184112Z"
    },
    "scrolled": true
   },
   "outputs": [
    {
     "name": "stdout",
     "output_type": "stream",
     "text": [
      "-------\n",
      "9S,11R-Dihydroxy-15-oxoprostanoic acid\n",
      "337.2360076855459_4.755741125000001\n",
      "APOE: 0.709\n",
      "LDLR: 0.638\n",
      "-------\n",
      "nan\n",
      "533.32710813091_3.16582487046632\n",
      "APOE: 0.969\n",
      "LDLR: 0.686\n",
      "-------\n",
      "Spectral Match to 12-Ketodeoxycholic acid from NIST14\n",
      "391.28440813423026_3.83471722090261\n",
      "APOE: 0.850\n",
      "LDLR: 0.740\n",
      "-------\n",
      "nan\n",
      "389.2691196723436_3.383737479270316\n",
      "APOE: 0.922\n",
      "LDLR: 0.879\n",
      "-------\n",
      "nan\n",
      "517.3319890836427_3.961917384615386\n",
      "APOE: 0.990\n",
      "LDLR: 0.705\n",
      "-------\n",
      "Spectral Match to Cholic acid from NIST14\n",
      "817.5826237288574_3.8388936842105252\n",
      "APOE: 0.718\n",
      "LDLR: 0.711\n",
      "-------\n",
      "nan\n",
      "601.5399281469334_5.45405833333333\n",
      "APOE: 0.762\n",
      "LDLR: 0.771\n",
      "-------\n",
      "nan\n",
      "526.3166728407195_5.327970608397601\n",
      "APOE: 0.869\n",
      "LDLR: 0.794\n",
      "-------\n",
      "nan\n",
      "332.27964076536216_4.588779652996847\n",
      "APOE: 0.713\n",
      "LDLR: 0.669\n",
      "-------\n",
      "nan\n",
      "568.3396247335379_5.054229002624673\n",
      "APOE: 0.995\n",
      "LDLR: 0.777\n",
      "-------\n",
      "Tauroursodeoxycholic acid\n",
      "464.2827313176263_3.902331940441882\n",
      "APOE: 0.969\n",
      "LDLR: 0.696\n",
      "-------\n",
      "nan\n",
      "533.3268329649845_3.536782531194295\n",
      "APOE: 0.965\n",
      "LDLR: 0.837\n",
      "-------\n",
      "Methyl palmitoleate\n",
      "269.2472891025985_5.321343669871796\n",
      "APOE: 0.971\n",
      "LDLR: 0.776\n",
      "-------\n",
      "Spectral Match to Benzyltetradecyldimethylammonium from NIST14\n",
      "332.3307817246258_5.3103554720133594\n",
      "APOE: 0.750\n",
      "LDLR: 0.871\n",
      "-------\n",
      "nan\n",
      "423.27459453350156_4.172966839080461\n",
      "APOE: 0.975\n",
      "LDLR: 0.675\n",
      "-------\n",
      "nan\n",
      "550.3426914780059_3.753477153558053\n",
      "APOE: 0.691\n",
      "LDLR: 0.666\n",
      "-------\n",
      "nan\n",
      "407.2796176049838_3.368313762626266\n",
      "APOE: 0.900\n",
      "LDLR: 0.751\n",
      "-------\n",
      "nan\n",
      "589.30170307438_3.7674697944593385\n",
      "APOE: 0.732\n",
      "LDLR: 0.649\n",
      "-------\n",
      "nan\n",
      "299.25767348785223_5.309788483373884\n",
      "APOE: 0.966\n",
      "LDLR: 0.692\n",
      "-------\n",
      "nan\n",
      "269.1748866981295_2.006651587301588\n",
      "APOE: 0.755\n",
      "LDLR: 0.597\n",
      "-------\n",
      "Spectral Match to Tyr-Ile from NIST14\n",
      "295.1647757134468_1.7339890339425583\n",
      "APOE: 0.794\n",
      "LDLR: 0.709\n",
      "-------\n",
      "nan\n",
      "392.28736166242135_4.667996314102565\n",
      "APOE: 0.739\n",
      "LDLR: 0.720\n",
      "-------\n",
      "nan\n",
      "374.2771151341289_3.8368078358208924\n",
      "APOE: 0.789\n",
      "LDLR: 0.785\n",
      "-------\n",
      "nan\n",
      "442.31689723365065_3.4432281250000014\n",
      "APOE: 0.912\n",
      "LDLR: 0.876\n",
      "-------\n",
      "nan\n",
      "407.2793260908103_3.6924033502968627\n",
      "APOE: 0.762\n",
      "LDLR: 0.883\n",
      "-------\n",
      ".beta.-Muricholic acid\n",
      "373.2738491153533_3.899919847020934\n",
      "APOE: 0.733\n",
      "LDLR: 0.731\n",
      "-------\n",
      "nan\n",
      "376.2924729358175_4.740066617790812\n",
      "APOE: 0.741\n",
      "LDLR: 0.862\n",
      "-------\n",
      "nan\n",
      "544.3401500596398_5.073365748031497\n",
      "APOE: 0.985\n",
      "LDLR: 0.743\n",
      "-------\n",
      "Spectral Match to Cholic acid from NIST14\n",
      "373.2737632068537_3.6807178630363\n",
      "APOE: 0.859\n",
      "LDLR: 0.719\n",
      "-------\n",
      "trans-Vaccenic acid\n",
      "283.2629498309951_5.430859365079369\n",
      "APOE: 0.972\n",
      "LDLR: 0.774\n",
      "-------\n",
      "Spectral Match to Leu-Leu from NIST14\n",
      "245.18608276846555_2.610393846153847\n",
      "APOE: 0.786\n",
      "LDLR: 0.648\n",
      "-------\n",
      "Phytosphingosine\n",
      "318.30021103146754_4.875661716171619\n",
      "APOE: 0.941\n",
      "LDLR: 0.670\n",
      "-------\n",
      "Medicagenic acid\n",
      "457.33172882496063_5.18955286458333\n",
      "APOE: 0.782\n",
      "LDLR: 0.739\n",
      "-------\n",
      "Taurocholic acid\n",
      "480.2773901097677_3.8037618113912246\n",
      "APOE: 0.879\n",
      "LDLR: 0.819\n",
      "-------\n",
      "nan\n",
      "324.28986215556387_5.433176666666667\n",
      "APOE: 0.964\n",
      "LDLR: 0.771\n",
      "-------\n",
      "Spectral Match to Arachidonoylthio-PC from NIST14\n",
      "784.5814876476254_5.029607722222226\n",
      "APOE: 0.684\n",
      "LDLR: 0.669\n",
      "-------\n",
      "nan\n",
      "546.3559446863139_5.154118130921617\n",
      "APOE: 0.752\n",
      "LDLR: 0.656\n",
      "-------\n",
      "nan\n",
      "817.5822893341162_4.2090098459846\n",
      "APOE: 0.781\n",
      "LDLR: 0.687\n",
      "-------\n",
      "nan\n",
      "269.1751660578593_1.9311817204301087\n",
      "APOE: 0.775\n",
      "LDLR: 0.571\n",
      "-------\n",
      "Medicagenic acid\n",
      "457.33088343168737_4.395387137137138\n",
      "APOE: 0.728\n",
      "LDLR: 0.680\n",
      "-------\n",
      "nan\n",
      "358.28219024838404_4.7314112935323385\n",
      "APOE: 0.696\n",
      "LDLR: 0.884\n",
      "-------\n",
      "Spectral Match to Benzyldodecyldimethylammonium from NIST14\n",
      "304.2993572401259_5.121302585521083\n",
      "APOE: 0.744\n",
      "LDLR: 0.892\n",
      "-------\n",
      "Tauroursodeoxycholic acid\n",
      "464.282789253008_3.771583465959327\n",
      "APOE: 0.755\n",
      "LDLR: 0.854\n",
      "-------\n",
      "nan\n",
      "482.29173000089963_3.593104338487973\n",
      "APOE: 0.921\n",
      "LDLR: 0.788\n",
      "-------\n",
      "Taurocholic acid\n",
      "498.2885969831677_3.5747786131996655\n",
      "APOE: 0.964\n",
      "LDLR: 0.739\n",
      "-------\n",
      "nan\n",
      "482.2932329620839_3.8548545867393287\n",
      "APOE: 0.953\n",
      "LDLR: 0.700\n",
      "-------\n",
      "nan\n",
      "271.22669825449856_5.263075240384611\n",
      "APOE: 0.948\n",
      "LDLR: 0.735\n",
      "-------\n",
      "Ursocholic acid\n",
      "373.27406602063917_3.411853389830509\n",
      "APOE: 0.775\n",
      "LDLR: 0.730\n",
      "-------\n",
      ".beta.-Muricholic acid\n",
      "373.2738348512753_3.8372961569579247\n",
      "APOE: 0.796\n",
      "LDLR: 0.782\n",
      "-------\n",
      "Taurocholic acid\n",
      "516.2998568826378_3.2370200341005964\n",
      "APOE: 0.751\n",
      "LDLR: 0.724\n",
      "-------\n",
      "Methyl 12-hydroxystearate\n",
      "297.27825689035825_5.705698658536578\n",
      "APOE: 0.971\n",
      "LDLR: 0.689\n",
      "-------\n",
      "nan\n",
      "514.283968153228_3.3051131999999996\n",
      "APOE: 0.893\n",
      "LDLR: 0.804\n",
      "-------\n",
      "nan\n",
      "342.239159752666_2.3437703125000007\n",
      "APOE: 0.726\n",
      "LDLR: 0.675\n",
      "-------\n",
      "Spectral Match to Taurocholic acid from NIST14\n",
      "516.300422276808_3.5346080964685593\n",
      "APOE: 0.963\n",
      "LDLR: 0.824\n",
      "-------\n",
      "nan\n",
      "345.2162797577512_4.481366906474821\n",
      "APOE: 0.786\n",
      "LDLR: 0.827\n",
      "-------\n",
      "Spectral Match to Cholic acid from NIST14\n",
      "355.26338080430236_3.96542493887531\n",
      "APOE: 0.769\n",
      "LDLR: 0.693\n",
      "-------\n",
      "cis-9-Hexadecenoic acid\n",
      "255.2317783582418_5.1814566985645945\n",
      "APOE: 0.978\n",
      "LDLR: 0.751\n",
      "-------\n",
      "Spectral Match to 12-Ketodeoxycholic acid from NIST14\n",
      "391.2844444023548_4.6659394695170215\n",
      "APOE: 0.739\n",
      "LDLR: 0.731\n",
      "-------\n",
      "Taurocholic acid\n",
      "498.28847330017254_3.631775063613232\n",
      "APOE: 0.978\n",
      "LDLR: 0.745\n",
      "-------\n",
      "Methyl palmitoleate\n",
      "269.2472623049091_5.526609791666675\n",
      "APOE: 0.949\n",
      "LDLR: 0.703\n",
      "-------\n",
      "Spectral Match to Val-Ile from NIST14\n",
      "231.170637396207_2.2339898659966524\n",
      "APOE: 0.690\n",
      "LDLR: 0.646\n",
      "-------\n",
      "nan\n",
      "382.2954160114096_4.688770048309179\n",
      "APOE: 0.606\n",
      "LDLR: 0.639\n",
      "-------\n",
      "Spectral Match to Cholic acid from NIST14\n",
      "355.2633984884364_3.811552948402946\n",
      "APOE: 0.865\n",
      "LDLR: 0.826\n",
      "-------\n",
      "nan\n",
      "407.279362595115_3.601989730639734\n",
      "APOE: 0.831\n",
      "LDLR: 0.879\n",
      "-------\n",
      "nan\n",
      "245.1610017564154_1.8040988005050522\n",
      "APOE: 0.881\n",
      "LDLR: 0.752\n",
      "-------\n",
      "nan\n",
      "506.27907974349694_3.788732373472948\n",
      "APOE: 0.730\n",
      "LDLR: 0.893\n",
      "-------\n",
      "9,10-Dihydroxy-12Z-octadecenoic acid\n",
      "315.25285307400634_4.7530202346041035\n",
      "APOE: 0.707\n",
      "LDLR: 0.757\n",
      "-------\n",
      "nan\n",
      "531.3115962608189_3.219810439068104\n",
      "APOE: 0.962\n",
      "LDLR: 0.637\n",
      "-------\n",
      "nan\n",
      "342.37300833741654_4.881961518324611\n",
      "APOE: 0.762\n",
      "LDLR: 0.959\n",
      "-------\n",
      "nan\n",
      "589.3019805823072_3.714467548500879\n",
      "APOE: 0.823\n",
      "LDLR: 0.671\n",
      "-------\n",
      "Medicagenic acid\n",
      "457.33156565156503_4.299112360688961\n",
      "APOE: 0.751\n",
      "LDLR: 0.695\n",
      "-------\n",
      "nan\n",
      "482.2933376174854_3.938358845437617\n",
      "APOE: 0.966\n",
      "LDLR: 0.657\n",
      "-------\n",
      "nan\n",
      "391.2843719708507_4.369248333333332\n",
      "APOE: 0.803\n",
      "LDLR: 0.735\n",
      "-------\n",
      "Tauroursodeoxycholic acid\n",
      "464.28258165797257_3.465544044444446\n",
      "APOE: 0.717\n",
      "LDLR: 0.692\n",
      "-------\n",
      "nan\n",
      "423.2744890715284_4.29798541001065\n",
      "APOE: 0.920\n",
      "LDLR: 0.932\n",
      "-------\n",
      "nan\n",
      "504.26295493309885_3.571681169429097\n",
      "APOE: 0.946\n",
      "LDLR: 0.896\n",
      "-------\n",
      "nan\n",
      "402.23041584119716_4.718749616858238\n",
      "APOE: 0.953\n",
      "LDLR: 0.743\n",
      "-------\n",
      "Taurocholic acid\n",
      "480.2776975590241_3.5065545644891123\n",
      "APOE: 0.834\n",
      "LDLR: 0.656\n",
      "-------\n",
      "nan\n",
      "397.212405603334_3.9347642213642193\n",
      "APOE: 0.666\n",
      "LDLR: 0.650\n",
      "-------\n",
      "nan\n",
      "506.27911240204685_3.7126306003584237\n",
      "APOE: 0.823\n",
      "LDLR: 0.847\n",
      "-------\n",
      "nan\n",
      "594.2399187508345_2.941121104536488\n",
      "APOE: 0.755\n",
      "LDLR: 0.667\n",
      "-------\n",
      "Spectral Match to Cholic acid from NIST14\n",
      "839.563173159268_4.154391079059832\n",
      "APOE: 0.687\n",
      "LDLR: 0.666\n",
      "-------\n",
      "nan\n",
      "389.2690331387742_3.437795402298853\n",
      "APOE: 0.871\n",
      "LDLR: 0.804\n",
      "-------\n",
      "MoNA:790553 Linoleic acid\n",
      "281.24729224771505_5.287591349206345\n",
      "APOE: 0.965\n",
      "LDLR: 0.693\n",
      "-------\n",
      "nan\n",
      "455.3148961272944_4.765965683060108\n",
      "APOE: 0.729\n",
      "LDLR: 0.681\n",
      "-------\n",
      "nan\n",
      "326.37793168777256_5.5902060067681925\n",
      "APOE: 0.738\n",
      "LDLR: 0.741\n",
      "-------\n",
      "Spectral Match to Phe-Pro from NIST14\n",
      "263.13956123221345_1.975692424242424\n",
      "APOE: 0.699\n",
      "LDLR: 0.675\n",
      "-------\n",
      "nan\n",
      "414.35906428878576_5.451022862129143\n",
      "APOE: 0.757\n",
      "LDLR: 0.772\n",
      "-------\n",
      "nan\n",
      "482.29251360867414_3.781293175487464\n",
      "APOE: 0.849\n",
      "LDLR: 0.824\n",
      "-------\n",
      "nan\n",
      "596.255578999257_3.2703611531986527\n",
      "APOE: 0.753\n",
      "LDLR: 0.635\n",
      "-------\n",
      "nan\n",
      "374.27706481344507_3.9006440359477117\n",
      "APOE: 0.752\n",
      "LDLR: 0.744\n",
      "-------\n",
      "nan\n",
      "199.168903166561_4.402568512658227\n",
      "APOE: 0.677\n",
      "LDLR: 0.773\n",
      "-------\n",
      "nan\n",
      "408.3111280714341_4.816674273255812\n",
      "APOE: 0.668\n",
      "LDLR: 0.680\n",
      "-------\n",
      "cis-Vaccenic acid\n",
      "265.25244007223137_5.432108840227089\n",
      "APOE: 0.971\n",
      "LDLR: 0.777\n",
      "-------\n",
      "nan\n",
      "533.3270619448439_3.227249017094015\n",
      "APOE: 0.794\n",
      "LDLR: 0.743\n",
      "-------\n",
      "Linoelaidic acid\n",
      "263.23674286193705_5.3141552\n",
      "APOE: 0.961\n",
      "LDLR: 0.728\n",
      "-------\n",
      "Tauroursodeoxycholic acid\n",
      "464.28276010843246_3.8523207305936062\n",
      "APOE: 0.926\n",
      "LDLR: 0.685\n",
      "-------\n",
      "Spectral Match to Taurocholic acid from NIST14\n",
      "516.3001954425159_3.6121693593314776\n",
      "APOE: 0.807\n",
      "LDLR: 0.832\n",
      "-------\n",
      "Spectral Match to Cholic acid from NIST14\n",
      "426.32176106573894_3.835625839793279\n",
      "APOE: 0.853\n",
      "LDLR: 0.704\n",
      "-------\n",
      "nan\n",
      "504.2628127415038_3.689145285714285\n",
      "APOE: 0.703\n",
      "LDLR: 0.881\n"
     ]
    }
   ],
   "source": [
    "highpred = []\n",
    "for i in fids:\n",
    "    taxon = exp2_apoe.feature_metadata.loc[i, 'LibraryID']\n",
    "    apoe_score = exp2_apoe[:, i]\n",
    "    apoe_true = exp2_apoe.sample_metadata['exposure_type'].values == 'IHH'\n",
    "    a = roc_auc_score(apoe_true, apoe_score)\n",
    "    if a < 0.5:\n",
    "        a = 1 - a\n",
    "    t1 = a\n",
    "    print('-------')\n",
    "    print(taxon)\n",
    "    print(i)\n",
    "    print('APOE: {:.3f}'.format(a))\n",
    "    ldlr_score = exp2_ldlr[:, i]\n",
    "    ldlr_true = exp2_ldlr.sample_metadata['exposure_type'].values == 'IHH'\n",
    "    a = roc_auc_score(ldlr_true, ldlr_score)\n",
    "    if a < 0.5:\n",
    "        a = 1 - a\n",
    "    t2 = a\n",
    "    print('LDLR: {:.3f}'.format(a))\n",
    "    \n",
    "    if t1>0.75 and t2>0.75:\n",
    "        highpred.append(i)"
   ]
  },
  {
   "cell_type": "code",
   "execution_count": 22,
   "metadata": {
    "ExecuteTime": {
     "end_time": "2019-04-01T09:55:05.279945Z",
     "start_time": "2019-04-01T09:55:05.269340Z"
    }
   },
   "outputs": [],
   "source": [
    "exp2_com = exp2.filter_ids(highpred,\n",
    "                           axis=1)"
   ]
  },
  {
   "cell_type": "code",
   "execution_count": 23,
   "metadata": {
    "ExecuteTime": {
     "end_time": "2019-04-01T09:55:10.938841Z",
     "start_time": "2019-04-01T09:55:09.213670Z"
    }
   },
   "outputs": [],
   "source": [
    "with open('metabolites2.tsv', 'w') as f:\n",
    "    f.write('amplicon\\tAPOE AUC\\tLDLR AUC\\tLibraryID\\tstandard_indentification_level_1\\n')\n",
    "    for i in exp2.feature_metadata.index:\n",
    "        apoe_score = exp2_apoe[:, i]\n",
    "        apoe_true = exp2_apoe.sample_metadata['exposure_type'].values == 'IHH'\n",
    "        a = roc_auc_score(apoe_true, apoe_score)\n",
    "        if a < 0.5:\n",
    "            a = 1 - a\n",
    "\n",
    "        ldlr_score = exp2_ldlr[:, i]\n",
    "        ldlr_true = exp2_ldlr.sample_metadata['exposure_type'].values == 'IHH'\n",
    "        b = roc_auc_score(ldlr_true, ldlr_score)\n",
    "        if b < 0.5:\n",
    "            b = 1 - b\n",
    "        a1 = exp2_apoe.feature_metadata.loc[i, 'LibraryID']\n",
    "        if pd.isna(a1):\n",
    "            a1 = ''\n",
    "        a2 = exp2_apoe.feature_metadata.loc[i, 'standard_indentification_level_1']\n",
    "        if pd.isna(a2):\n",
    "            a2= ''\n",
    "        f.write('\\t'.join([i,'{:.3f}'.format(a), '{:.3f}'.format(b), a1, a2]))\n",
    "        f.write('\\n')"
   ]
  },
  {
   "cell_type": "markdown",
   "metadata": {},
   "source": [
    "# roc curvse"
   ]
  },
  {
   "cell_type": "code",
   "execution_count": 145,
   "metadata": {
    "ExecuteTime": {
     "end_time": "2019-04-01T11:19:52.676200Z",
     "start_time": "2019-04-01T11:19:50.282503Z"
    }
   },
   "outputs": [
    {
     "data": {
      "application/vnd.jupyter.widget-view+json": {
       "model_id": "f6645bf550094d39b93d7c9e6b591955",
       "version_major": 2,
       "version_minor": 0
      },
      "text/plain": [
       "FigureCanvasNbAgg()"
      ]
     },
     "metadata": {},
     "output_type": "display_data"
    },
    {
     "data": {
      "text/plain": [
       "Text(0.5,1.08,'APOE KO')"
      ]
     },
     "execution_count": 145,
     "metadata": {},
     "output_type": "execute_result"
    }
   ],
   "source": [
    "from matplotlib import pyplot as plt\n",
    "fig_apoe, ax_apoe = plt.subplots()\n",
    "ax_apoe.set_aspect('equal')\n",
    "aucs = []\n",
    "fids_apoe = []\n",
    "auc_apoe = []\n",
    "for i in exp2_apoe.feature_metadata.index:\n",
    "    apoe_score = exp2_apoe[:, i]\n",
    "    apoe_true = exp2_apoe.sample_metadata['exposure_type'].values == 'IHH'\n",
    "    fpr, tpr, thresholds = roc_curve(apoe_true, apoe_score)\n",
    "    a = auc(fpr, tpr)\n",
    "    aucs.append(a)\n",
    "    if a < 0.5:\n",
    "        a = 1-a\n",
    "    if a > 0.75:\n",
    "        fids_apoe.append(i)\n",
    "        auc_apoe.append(a)\n",
    "    ax_apoe.plot(np.insert(fpr, 0, 0), np.insert(tpr, 0, 0), lw=0.7, color='gray', alpha=0.2)\n",
    "\n",
    "exp2_apoe.feature_metadata['AUC'] = aucs\n",
    "ax_apoe.plot([0, 1], [0, 1], linestyle='-', lw=1, color='black', alpha=.9)\n",
    "ax_apoe.set_xlim(-0.05, 1.05)\n",
    "ax_apoe.set_ylim(-0.05, 1.05)\n",
    "ax_apoe.set_xlabel('False Positive Rate')\n",
    "ax_apoe.set_ylabel('True Positive Rate')\n",
    "ax_apoe.set_title('APOE KO', y=1.08)"
   ]
  },
  {
   "cell_type": "code",
   "execution_count": 146,
   "metadata": {
    "ExecuteTime": {
     "end_time": "2019-04-01T11:19:54.639563Z",
     "start_time": "2019-04-01T11:19:52.679456Z"
    }
   },
   "outputs": [
    {
     "data": {
      "application/vnd.jupyter.widget-view+json": {
       "model_id": "d3697bc5a97249ada206ecdede70a25c",
       "version_major": 2,
       "version_minor": 0
      },
      "text/plain": [
       "FigureCanvasNbAgg()"
      ]
     },
     "metadata": {},
     "output_type": "display_data"
    },
    {
     "data": {
      "text/plain": [
       "Text(0.5,1.08,'LDLR KO')"
      ]
     },
     "execution_count": 146,
     "metadata": {},
     "output_type": "execute_result"
    }
   ],
   "source": [
    "from matplotlib import pyplot as plt\n",
    "fig_ldlr, ax_ldlr = plt.subplots()\n",
    "ax_ldlr.set_aspect('equal')\n",
    "fids_ldlr = []\n",
    "auc_ldlr = []\n",
    "aucs = []\n",
    "for i in exp2_ldlr.feature_metadata.index:\n",
    "    ldlr_score = exp2_ldlr[:, i]\n",
    "    ldlr_true = exp2_ldlr.sample_metadata['exposure_type'].values == 'IHH'\n",
    "    fpr, tpr, thresholds = roc_curve(ldlr_true, ldlr_score)\n",
    "    a = auc(fpr, tpr)\n",
    "    aucs.append(a)\n",
    "    if a < 0.5:\n",
    "        a = 1-a\n",
    "    if a > 0.75:\n",
    "        fids_ldlr.append(i)\n",
    "        auc_ldlr.append(a)\n",
    "    ax_ldlr.plot(np.insert(fpr, 0, 0), np.insert(tpr, 0, 0), lw=0.7, color='gray', alpha=0.3)\n",
    "exp2_ldlr.feature_metadata['AUC'] = aucs\n",
    "ax_ldlr.plot([0, 1], [0, 1], linestyle='-', lw=1, color='black', alpha=.9)\n",
    "ax_ldlr.set_xlim(-0.05, 1.05)\n",
    "ax_ldlr.set_ylim(-0.05, 1.05)\n",
    "ax_ldlr.set_xlabel('False Positive Rate')\n",
    "ax_ldlr.set_ylabel('True Positive Rate')\n",
    "ax_ldlr.set_title('LDLR KO', y=1.08)"
   ]
  },
  {
   "cell_type": "code",
   "execution_count": 15,
   "metadata": {
    "ExecuteTime": {
     "end_time": "2019-04-01T11:05:09.032010Z",
     "start_time": "2019-04-01T11:05:08.638657Z"
    }
   },
   "outputs": [
    {
     "data": {
      "application/vnd.jupyter.widget-view+json": {
       "model_id": "",
       "version_major": 2,
       "version_minor": 0
      },
      "text/plain": [
       "FigureCanvasNbAgg()"
      ]
     },
     "metadata": {},
     "output_type": "display_data"
    },
    {
     "name": "stdout",
     "output_type": "stream",
     "text": [
      "2019-04-03 15:50:07 WARNING You need to set up jupyter notebook with `%matplotlib notebook`\n"
     ]
    },
    {
     "name": "stderr",
     "output_type": "stream",
     "text": [
      "/opt/miniconda3/envs/qiime2-2018.11/lib/python3.5/site-packages/matplotlib/tight_layout.py:198: UserWarning: tight_layout cannot make axes width small enough to accommodate all axes decorations\n",
      "  warnings.warn('tight_layout cannot make axes width small enough '\n"
     ]
    },
    {
     "data": {
      "application/vnd.jupyter.widget-view+json": {
       "model_id": "bbf96b45b0b744348f6eb3b4ed83076e",
       "version_major": 2,
       "version_minor": 0
      },
      "text/plain": [
       "Label(value='0 features are selected')"
      ]
     },
     "metadata": {},
     "output_type": "display_data"
    },
    {
     "data": {
      "application/vnd.jupyter.widget-view+json": {
       "model_id": "b427a1ed8d97453ba79ce11211f57599",
       "version_major": 2,
       "version_minor": 0
      },
      "text/plain": [
       "HBox(children=(Text(value='-', description='Sample ID', layout=Layout(width='100%'), placeholder='Sample ID'),…"
      ]
     },
     "metadata": {},
     "output_type": "display_data"
    },
    {
     "data": {
      "application/vnd.jupyter.widget-view+json": {
       "model_id": "d5479fb755084b51b4e7ffa68da7d19f",
       "version_major": 2,
       "version_minor": 0
      },
      "text/plain": [
       "HBox(children=(Dropdown(layout=Layout(width='20%'), options=('BarcodeSequence', 'Description', 'LinkerPrimerSe…"
      ]
     },
     "metadata": {},
     "output_type": "display_data"
    },
    {
     "data": {
      "application/vnd.jupyter.widget-view+json": {
       "model_id": "678c4ccf1ab24b5f9d23b516dc802fc5",
       "version_major": 2,
       "version_minor": 0
      },
      "text/plain": [
       "HBox(children=(Dropdown(layout=Layout(width='20%'), options=('row ID', 'row m/z', 'row retention time', 'Libra…"
      ]
     },
     "metadata": {},
     "output_type": "display_data"
    },
    {
     "data": {
      "application/vnd.jupyter.widget-view+json": {
       "model_id": "04edb1e272844e849a757ed9522d1026",
       "version_major": 2,
       "version_minor": 0
      },
      "text/plain": [
       "HBox(children=(Button(description='print axes ranges', style=ButtonStyle(), tooltip='Print the x axis and y ax…"
      ]
     },
     "metadata": {},
     "output_type": "display_data"
    },
    {
     "data": {
      "application/vnd.jupyter.widget-view+json": {
       "model_id": "419c4d261a0048fd98e37e577c9380ff",
       "version_major": 2,
       "version_minor": 0
      },
      "text/plain": [
       "HTML(value='no annotation found', layout=Layout(height='100px', overflow_y='auto'))"
      ]
     },
     "metadata": {},
     "output_type": "display_data"
    }
   ],
   "source": [
    "ids = exp2_apoe.filter_by_metadata('AUC', lambda x: [i>0.95 or i<0.05 for i in x], axis='f').sort_by_metadata('AUC', axis='f').feature_metadata.index.tolist()\n",
    "exp2f = (exp2.filter_ids(ids, axis='f')\n",
    "     .sort_samples('age')\n",
    "     #.sort_samples('mouse_number')\n",
    "     .sort_samples('exposure_type')\n",
    "     .sort_samples('genotype'))\n",
    "\n",
    "exp2f.feature_metadata['apoe_AUC'] = exp2_apoe.feature_metadata.loc[ids, 'AUC'] - 0.5\n",
    "exp2f.feature_metadata['ldlr_AUC'] = exp2_ldlr.feature_metadata.loc[ids, 'AUC'] - 0.5\n",
    "mask = np.abs(exp2f.feature_metadata['ldlr_AUC']) < 0.1\n",
    "exp2f.feature_metadata.loc[mask, 'ldlr_AUC'] = 0\n",
    "\n",
    "l = []\n",
    "for i in exp2f.feature_metadata['apoe_AUC'] * exp2f.feature_metadata['ldlr_AUC']:\n",
    "    if i > 0:\n",
    "        l.append('same')\n",
    "    elif i < 0:\n",
    "        l.append('opposite')\n",
    "    else:\n",
    "        l.append(np.nan)\n",
    "exp2f.feature_metadata['direction'] = l\n",
    "exp2f.feature_metadata['standard_indentification_level_1'].fillna(exp2f.feature_metadata['LibraryID'], inplace=True)\n",
    "exp2f.feature_metadata['standard_indentification_level_1'].fillna(\n",
    "    exp2f.feature_metadata['row retention time'].astype(str) + '_' + exp2f.feature_metadata['row m/z'].astype(str),\n",
    "    inplace=True)\n",
    "p=exp2f.plot(sample_field='exposure_type', feature_field='standard_indentification_level_1', \n",
    "             yticklabel_len=50, yticks_max=100, yticklabel_kwargs={'size': 7},\n",
    "             barx_fields=['genotype'], \n",
    "             bary_fields=['direction'], \n",
    "             bary_colors={'same':'green', 'opposite':'red'}, \n",
    "             bary_label=False,\n",
    "             gui='jupyter')"
   ]
  },
  {
   "cell_type": "code",
   "execution_count": 16,
   "metadata": {
    "ExecuteTime": {
     "end_time": "2019-04-01T10:00:40.342303Z",
     "start_time": "2019-04-01T10:00:40.106818Z"
    }
   },
   "outputs": [],
   "source": [
    "p.figure.set_size_inches(12,6)\n",
    "p.save_figure('apoe-metabolome.pdf')"
   ]
  },
  {
   "cell_type": "code",
   "execution_count": 17,
   "metadata": {
    "ExecuteTime": {
     "end_time": "2019-04-01T10:00:41.234477Z",
     "start_time": "2019-04-01T10:00:40.944697Z"
    }
   },
   "outputs": [
    {
     "data": {
      "application/vnd.jupyter.widget-view+json": {
       "model_id": "",
       "version_major": 2,
       "version_minor": 0
      },
      "text/plain": [
       "FigureCanvasNbAgg()"
      ]
     },
     "metadata": {},
     "output_type": "display_data"
    },
    {
     "name": "stdout",
     "output_type": "stream",
     "text": [
      "2019-04-03 16:03:55 WARNING You need to set up jupyter notebook with `%matplotlib notebook`\n"
     ]
    },
    {
     "name": "stderr",
     "output_type": "stream",
     "text": [
      "/opt/miniconda3/envs/qiime2-2018.11/lib/python3.5/site-packages/matplotlib/tight_layout.py:198: UserWarning: tight_layout cannot make axes width small enough to accommodate all axes decorations\n",
      "  warnings.warn('tight_layout cannot make axes width small enough '\n"
     ]
    },
    {
     "data": {
      "application/vnd.jupyter.widget-view+json": {
       "model_id": "d451ba08935e4ef4a531bbfaaad7d020",
       "version_major": 2,
       "version_minor": 0
      },
      "text/plain": [
       "Label(value='0 features are selected')"
      ]
     },
     "metadata": {},
     "output_type": "display_data"
    },
    {
     "data": {
      "application/vnd.jupyter.widget-view+json": {
       "model_id": "79bf0350cc2d4d15a6fa9347a1bab22b",
       "version_major": 2,
       "version_minor": 0
      },
      "text/plain": [
       "HBox(children=(Text(value='-', description='Sample ID', layout=Layout(width='100%'), placeholder='Sample ID'),…"
      ]
     },
     "metadata": {},
     "output_type": "display_data"
    },
    {
     "data": {
      "application/vnd.jupyter.widget-view+json": {
       "model_id": "d926b0af5ce44cd09fc7a9972d56f18a",
       "version_major": 2,
       "version_minor": 0
      },
      "text/plain": [
       "HBox(children=(Dropdown(layout=Layout(width='20%'), options=('BarcodeSequence', 'Description', 'LinkerPrimerSe…"
      ]
     },
     "metadata": {},
     "output_type": "display_data"
    },
    {
     "data": {
      "application/vnd.jupyter.widget-view+json": {
       "model_id": "14ec2d08ddcf44d195cd0788b36a6729",
       "version_major": 2,
       "version_minor": 0
      },
      "text/plain": [
       "HBox(children=(Dropdown(layout=Layout(width='20%'), options=('row ID', 'row m/z', 'row retention time', 'Libra…"
      ]
     },
     "metadata": {},
     "output_type": "display_data"
    },
    {
     "data": {
      "application/vnd.jupyter.widget-view+json": {
       "model_id": "6d07f00d8ec2439cbb9e34735ed581dd",
       "version_major": 2,
       "version_minor": 0
      },
      "text/plain": [
       "HBox(children=(Button(description='print axes ranges', style=ButtonStyle(), tooltip='Print the x axis and y ax…"
      ]
     },
     "metadata": {},
     "output_type": "display_data"
    },
    {
     "data": {
      "application/vnd.jupyter.widget-view+json": {
       "model_id": "dd3b3175a87f43b492ffb2e021d2cdb5",
       "version_major": 2,
       "version_minor": 0
      },
      "text/plain": [
       "HTML(value='no annotation found', layout=Layout(height='100px', overflow_y='auto'))"
      ]
     },
     "metadata": {},
     "output_type": "display_data"
    }
   ],
   "source": [
    "ids = exp2_ldlr.filter_by_metadata('AUC', lambda x: [i>0.85 or i<0.15 for i in x], axis='f').sort_by_metadata('AUC', axis='f').feature_metadata.index.tolist()\n",
    "\n",
    "exp2f = (exp2.filter_ids(ids, axis='f')\n",
    "     .sort_samples('age')\n",
    "    # .sort_samples('mouse_number')\n",
    "     .sort_samples('exposure_type')\n",
    "     .sort_samples('genotype', reverse=True))\n",
    "\n",
    "exp2f.feature_metadata['apoe_AUC'] = exp2_apoe.feature_metadata.loc[ids, 'AUC'] - 0.5\n",
    "exp2f.feature_metadata['ldlr_AUC'] = exp2_ldlr.feature_metadata.loc[ids, 'AUC'] - 0.5\n",
    "mask = np.abs(exp2f.feature_metadata['apoe_AUC']) < 0.1\n",
    "exp2f.feature_metadata.loc[mask, 'apoe_AUC'] = 0\n",
    "\n",
    "l = []\n",
    "for i in exp2f.feature_metadata['apoe_AUC'] * exp2f.feature_metadata['ldlr_AUC']:\n",
    "    if i > 0:\n",
    "        l.append('same')\n",
    "    elif i < 0:\n",
    "        l.append('opposite')\n",
    "    else:\n",
    "        l.append(np.nan)\n",
    "exp2f.feature_metadata['direction'] = l \n",
    "exp2f.feature_metadata['standard_indentification_level_1'].fillna(\n",
    "    exp2f.feature_metadata['row retention time'].astype(str) + '_' + exp2f.feature_metadata['row m/z'].astype(str),\n",
    "    inplace=True)\n",
    "p = exp2f.plot(sample_field='exposure_type', feature_field='standard_indentification_level_1',\n",
    "               yticklabel_len=50, yticks_max=100, yticklabel_kwargs={'size': 7},\n",
    "               #cmap='inferno', \n",
    "               clim=[0, 30],\n",
    "               barx_fields=['genotype'],\n",
    "               bary_fields=['direction'], bary_colors={'same':'green', 'opposite':'red'},\n",
    "               bary_label=False, gui='jupyter')"
   ]
  },
  {
   "cell_type": "code",
   "execution_count": 18,
   "metadata": {
    "ExecuteTime": {
     "end_time": "2019-04-01T10:00:42.481566Z",
     "start_time": "2019-04-01T10:00:42.298703Z"
    }
   },
   "outputs": [],
   "source": [
    "p.figure.set_size_inches(12,6)\n",
    "p.save_figure('ldlr-metabolome.pdf')"
   ]
  },
  {
   "cell_type": "code",
   "execution_count": 109,
   "metadata": {},
   "outputs": [
    {
     "data": {
      "text/html": [
       "<div>\n",
       "<style scoped>\n",
       "    .dataframe tbody tr th:only-of-type {\n",
       "        vertical-align: middle;\n",
       "    }\n",
       "\n",
       "    .dataframe tbody tr th {\n",
       "        vertical-align: top;\n",
       "    }\n",
       "\n",
       "    .dataframe thead th {\n",
       "        text-align: right;\n",
       "    }\n",
       "</style>\n",
       "<table border=\"1\" class=\"dataframe\">\n",
       "  <thead>\n",
       "    <tr style=\"text-align: right;\">\n",
       "      <th></th>\n",
       "      <th>row ID</th>\n",
       "      <th>row m/z</th>\n",
       "      <th>row retention time</th>\n",
       "      <th>LibraryID</th>\n",
       "      <th>standard_indentification_level_1</th>\n",
       "      <th>_feature_id</th>\n",
       "      <th>AUC</th>\n",
       "    </tr>\n",
       "    <tr>\n",
       "      <th>#featureID</th>\n",
       "      <th></th>\n",
       "      <th></th>\n",
       "      <th></th>\n",
       "      <th></th>\n",
       "      <th></th>\n",
       "      <th></th>\n",
       "      <th></th>\n",
       "    </tr>\n",
       "  </thead>\n",
       "  <tbody>\n",
       "    <tr>\n",
       "      <th>110.02020789262785_7.81588739061257</th>\n",
       "      <td>1</td>\n",
       "      <td>110.020208</td>\n",
       "      <td>7.815887</td>\n",
       "      <td>NaN</td>\n",
       "      <td>NaN</td>\n",
       "      <td>110.02020789262785_7.81588739061257</td>\n",
       "      <td>0.478339</td>\n",
       "    </tr>\n",
       "    <tr>\n",
       "      <th>496.3400991541585_5.156902118305356</th>\n",
       "      <td>2</td>\n",
       "      <td>496.340099</td>\n",
       "      <td>5.156902</td>\n",
       "      <td>1-Palmitoyl-sn-glycero-3-phosphocholine</td>\n",
       "      <td>NaN</td>\n",
       "      <td>496.3400991541585_5.156902118305356</td>\n",
       "      <td>0.473356</td>\n",
       "    </tr>\n",
       "    <tr>\n",
       "      <th>357.2789208085304_4.965391768541157</th>\n",
       "      <td>3</td>\n",
       "      <td>357.278921</td>\n",
       "      <td>4.965392</td>\n",
       "      <td>Spectral Match to Chenodeoxycholic acid from N...</td>\n",
       "      <td>Deoxycholic acid</td>\n",
       "      <td>357.2789208085304_4.965391768541157</td>\n",
       "      <td>0.771073</td>\n",
       "    </tr>\n",
       "    <tr>\n",
       "      <th>373.2738491153533_3.899919847020934</th>\n",
       "      <td>4</td>\n",
       "      <td>373.273849</td>\n",
       "      <td>3.899920</td>\n",
       "      <td>.beta.-Muricholic acid</td>\n",
       "      <td>a-Muricholic acid</td>\n",
       "      <td>373.2738491153533_3.899919847020934</td>\n",
       "      <td>0.269066</td>\n",
       "    </tr>\n",
       "    <tr>\n",
       "      <th>373.27386451947183_3.9615752818035452</th>\n",
       "      <td>5</td>\n",
       "      <td>373.273865</td>\n",
       "      <td>3.961575</td>\n",
       "      <td>.beta.-Muricholic acid</td>\n",
       "      <td>b-Muricholic acid</td>\n",
       "      <td>373.27386451947183_3.9615752818035452</td>\n",
       "      <td>0.434879</td>\n",
       "    </tr>\n",
       "  </tbody>\n",
       "</table>\n",
       "</div>"
      ],
      "text/plain": [
       "                                       row ID     row m/z  row retention time  \\\n",
       "#featureID                                                                      \n",
       "110.02020789262785_7.81588739061257         1  110.020208            7.815887   \n",
       "496.3400991541585_5.156902118305356         2  496.340099            5.156902   \n",
       "357.2789208085304_4.965391768541157         3  357.278921            4.965392   \n",
       "373.2738491153533_3.899919847020934         4  373.273849            3.899920   \n",
       "373.27386451947183_3.9615752818035452       5  373.273865            3.961575   \n",
       "\n",
       "                                                                               LibraryID  \\\n",
       "#featureID                                                                                 \n",
       "110.02020789262785_7.81588739061257                                                  NaN   \n",
       "496.3400991541585_5.156902118305356              1-Palmitoyl-sn-glycero-3-phosphocholine   \n",
       "357.2789208085304_4.965391768541157    Spectral Match to Chenodeoxycholic acid from N...   \n",
       "373.2738491153533_3.899919847020934                               .beta.-Muricholic acid   \n",
       "373.27386451947183_3.9615752818035452                             .beta.-Muricholic acid   \n",
       "\n",
       "                                      standard_indentification_level_1  \\\n",
       "#featureID                                                               \n",
       "110.02020789262785_7.81588739061257                                NaN   \n",
       "496.3400991541585_5.156902118305356                                NaN   \n",
       "357.2789208085304_4.965391768541157                   Deoxycholic acid   \n",
       "373.2738491153533_3.899919847020934                  a-Muricholic acid   \n",
       "373.27386451947183_3.9615752818035452                b-Muricholic acid   \n",
       "\n",
       "                                                                 _feature_id  \\\n",
       "#featureID                                                                     \n",
       "110.02020789262785_7.81588739061257      110.02020789262785_7.81588739061257   \n",
       "496.3400991541585_5.156902118305356      496.3400991541585_5.156902118305356   \n",
       "357.2789208085304_4.965391768541157      357.2789208085304_4.965391768541157   \n",
       "373.2738491153533_3.899919847020934      373.2738491153533_3.899919847020934   \n",
       "373.27386451947183_3.9615752818035452  373.27386451947183_3.9615752818035452   \n",
       "\n",
       "                                            AUC  \n",
       "#featureID                                       \n",
       "110.02020789262785_7.81588739061257    0.478339  \n",
       "496.3400991541585_5.156902118305356    0.473356  \n",
       "357.2789208085304_4.965391768541157    0.771073  \n",
       "373.2738491153533_3.899919847020934    0.269066  \n",
       "373.27386451947183_3.9615752818035452  0.434879  "
      ]
     },
     "execution_count": 109,
     "metadata": {},
     "output_type": "execute_result"
    }
   ],
   "source": [
    "exp2_ldlr.feature_metadata.head()"
   ]
  },
  {
   "cell_type": "code",
   "execution_count": 154,
   "metadata": {},
   "outputs": [
    {
     "data": {
      "text/plain": [
       "(11, 3)"
      ]
     },
     "execution_count": 154,
     "metadata": {},
     "output_type": "execute_result"
    }
   ],
   "source": [
    "#exp2_ldlr.feature_metadata['standard_indentification_level_1'].fillna(exp2_ldlr.feature_metadata['LibraryID'], inplace=True)\n",
    "df_aucs = pd.concat([exp2_ldlr.feature_metadata[['LibraryID', 'AUC']].dropna(axis=0, how='any').AUC, exp2_apoe.feature_metadata.AUC], join='inner', axis=1)\n",
    "df_aucs.columns = ['ldlr', 'apoe']\n",
    "df_aucs['annot'] = exp2_ldlr.feature_metadata['LibraryID']\n",
    "df_aucs2 = df_aucs.query('~(0.25 < ldlr < 0.75) and ~(0.25 < apoe < 0.75)')\n",
    "df_aucs2.shape"
   ]
  },
  {
   "cell_type": "code",
   "execution_count": 157,
   "metadata": {},
   "outputs": [
    {
     "data": {
      "text/html": [
       "<div>\n",
       "<style scoped>\n",
       "    .dataframe tbody tr th:only-of-type {\n",
       "        vertical-align: middle;\n",
       "    }\n",
       "\n",
       "    .dataframe tbody tr th {\n",
       "        vertical-align: top;\n",
       "    }\n",
       "\n",
       "    .dataframe thead th {\n",
       "        text-align: right;\n",
       "    }\n",
       "</style>\n",
       "<table border=\"1\" class=\"dataframe\">\n",
       "  <thead>\n",
       "    <tr style=\"text-align: right;\">\n",
       "      <th></th>\n",
       "      <th>ldlr</th>\n",
       "      <th>apoe</th>\n",
       "      <th>annot</th>\n",
       "    </tr>\n",
       "    <tr>\n",
       "      <th>#featureID</th>\n",
       "      <th></th>\n",
       "      <th></th>\n",
       "      <th></th>\n",
       "    </tr>\n",
       "  </thead>\n",
       "  <tbody>\n",
       "    <tr>\n",
       "      <th>255.2317783582418_5.1814566985645945</th>\n",
       "      <td>0.248720</td>\n",
       "      <td>0.021759</td>\n",
       "      <td>cis-9-Hexadecenoic acid</td>\n",
       "    </tr>\n",
       "    <tr>\n",
       "      <th>283.2629498309951_5.430859365079369</th>\n",
       "      <td>0.225882</td>\n",
       "      <td>0.028241</td>\n",
       "      <td>trans-Vaccenic acid</td>\n",
       "    </tr>\n",
       "    <tr>\n",
       "      <th>265.25244007223137_5.432108840227089</th>\n",
       "      <td>0.223391</td>\n",
       "      <td>0.029167</td>\n",
       "      <td>cis-Vaccenic acid</td>\n",
       "    </tr>\n",
       "    <tr>\n",
       "      <th>269.2472891025985_5.321343669871796</th>\n",
       "      <td>0.224498</td>\n",
       "      <td>0.029167</td>\n",
       "      <td>Methyl palmitoleate</td>\n",
       "    </tr>\n",
       "    <tr>\n",
       "      <th>355.2633984884364_3.811552948402946</th>\n",
       "      <td>0.173564</td>\n",
       "      <td>0.135185</td>\n",
       "      <td>Spectral Match to Cholic acid from NIST14</td>\n",
       "    </tr>\n",
       "  </tbody>\n",
       "</table>\n",
       "</div>"
      ],
      "text/plain": [
       "                                          ldlr      apoe  \\\n",
       "#featureID                                                 \n",
       "255.2317783582418_5.1814566985645945  0.248720  0.021759   \n",
       "283.2629498309951_5.430859365079369   0.225882  0.028241   \n",
       "265.25244007223137_5.432108840227089  0.223391  0.029167   \n",
       "269.2472891025985_5.321343669871796   0.224498  0.029167   \n",
       "355.2633984884364_3.811552948402946   0.173564  0.135185   \n",
       "\n",
       "                                                                          annot  \n",
       "#featureID                                                                       \n",
       "255.2317783582418_5.1814566985645945                    cis-9-Hexadecenoic acid  \n",
       "283.2629498309951_5.430859365079369                         trans-Vaccenic acid  \n",
       "265.25244007223137_5.432108840227089                          cis-Vaccenic acid  \n",
       "269.2472891025985_5.321343669871796                         Methyl palmitoleate  \n",
       "355.2633984884364_3.811552948402946   Spectral Match to Cholic acid from NIST14  "
      ]
     },
     "execution_count": 157,
     "metadata": {},
     "output_type": "execute_result"
    }
   ],
   "source": [
    "df_aucs2.sort_values(['apoe', 'ldlr']).head()"
   ]
  },
  {
   "cell_type": "code",
   "execution_count": 75,
   "metadata": {
    "ExecuteTime": {
     "end_time": "2019-04-01T11:20:05.312538Z",
     "start_time": "2019-04-01T11:20:05.308013Z"
    }
   },
   "outputs": [],
   "source": [
    "fids = ['283.2629498309951_5.430859365079369', '255.2317783582418_5.1814566985645945', ]"
   ]
  },
  {
   "cell_type": "code",
   "execution_count": 76,
   "metadata": {
    "ExecuteTime": {
     "end_time": "2019-04-01T11:20:10.028269Z",
     "start_time": "2019-04-01T11:20:09.986770Z"
    }
   },
   "outputs": [],
   "source": [
    "for n, i in enumerate(fids, 1):\n",
    "    apoe_score = exp2_apoe[:, i]\n",
    "    apoe_true = exp2_apoe.sample_metadata['exposure_type'].values == 'IHH'\n",
    "    fpr, tpr, thresholds = roc_curve(apoe_true, apoe_score)\n",
    "    a = auc(fpr, tpr)\n",
    "    if a < 0.5:\n",
    "        a = 1-a\n",
    "    if n > 2:\n",
    "        #ax_apoe.plot(np.insert(fpr, 0, 0), np.insert(tpr, 0, 0), lw=3, color='black', alpha=0.5)\n",
    "        pass\n",
    "    else:\n",
    "        ax_apoe.plot(np.insert(fpr, 0, 0), np.insert(tpr, 0, 0), lw=3, color=plt.cm.tab10.colors[n-1], label='metabolite %d (%.2f)' % (n, a))\n",
    "ax_apoe.legend(bbox_to_anchor=(0.0, 1.01), ncol=2, borderaxespad=0, frameon=False, loc=\"lower left\")\n",
    "fig_apoe.tight_layout()"
   ]
  },
  {
   "cell_type": "code",
   "execution_count": 77,
   "metadata": {
    "ExecuteTime": {
     "end_time": "2019-04-01T11:20:11.518642Z",
     "start_time": "2019-04-01T11:20:11.505104Z"
    }
   },
   "outputs": [
    {
     "data": {
      "image/png": "[encoded data removed]",
      "text/plain": [
       "<Figure size 640x480 with 1 Axes>"
      ]
     },
     "execution_count": 77,
     "metadata": {},
     "output_type": "execute_result"
    }
   ],
   "source": [
    "fig_apoe"
   ]
  },
  {
   "cell_type": "code",
   "execution_count": 78,
   "metadata": {
    "ExecuteTime": {
     "end_time": "2019-04-01T11:20:14.826135Z",
     "start_time": "2019-04-01T11:20:14.786442Z"
    }
   },
   "outputs": [],
   "source": [
    "for n, i in enumerate(fids, 1):\n",
    "    ldlr_score = exp2_ldlr[:, i]\n",
    "    ldlr_true = exp2_ldlr.sample_metadata['exposure_type'].values == 'IHH'\n",
    "    fpr, tpr, thresholds = roc_curve(ldlr_true, ldlr_score)\n",
    "    a = auc(fpr, tpr)\n",
    "    if a < 0.5:\n",
    "        a = 1-a\n",
    "    if n > 2:\n",
    "        #ax_ldlr.plot(np.insert(fpr, 0, 0), np.insert(tpr, 0, 0), lw=3, color='black', alpha=0.5)\n",
    "        pass\n",
    "    else:\n",
    "        ax_ldlr.plot(np.insert(fpr, 0, 0), np.insert(tpr, 0, 0), lw=3, color=plt.cm.tab10.colors[n-1], label='metabolite %d (%.2f)' % (n, a))\n",
    "ax_ldlr.legend(bbox_to_anchor=(0.0, 1.01), ncol=2, borderaxespad=0, frameon=False, loc=\"lower left\")\n",
    "fig_ldlr.tight_layout()"
   ]
  },
  {
   "cell_type": "code",
   "execution_count": 79,
   "metadata": {
    "ExecuteTime": {
     "end_time": "2019-04-01T11:20:16.010362Z",
     "start_time": "2019-04-01T11:20:15.997079Z"
    }
   },
   "outputs": [
    {
     "data": {
      "image/png": "[encoded data removed]",
      "text/plain": [
       "<Figure size 640x480 with 1 Axes>"
      ]
     },
     "execution_count": 79,
     "metadata": {},
     "output_type": "execute_result"
    }
   ],
   "source": [
    "fig_ldlr"
   ]
  },
  {
   "cell_type": "code",
   "execution_count": 80,
   "metadata": {},
   "outputs": [],
   "source": [
    "from matplotlib.backends.backend_pdf import PdfPages\n",
    "\n",
    "with PdfPages('roc-metabites2.pdf') as pdf:\n",
    "    pdf.savefig(fig_apoe)\n",
    "    pdf.savefig(fig_ldlr)"
   ]
  },
  {
   "cell_type": "code",
   "execution_count": null,
   "metadata": {},
   "outputs": [],
   "source": []
  }
 ],
 "metadata": {
  "kernelspec": {
   "display_name": "qiime2-2018.11",
   "language": "python",
   "name": "qiime2-2018.11"
  },
  "language_info": {
   "codemirror_mode": {
    "name": "ipython",
    "version": 3
   },
   "file_extension": ".py",
   "mimetype": "text/x-python",
   "name": "python",
   "nbconvert_exporter": "python",
   "pygments_lexer": "ipython3",
   "version": "3.5.5"
  },
  "toc": {
   "base_numbering": 1,
   "nav_menu": {},
   "number_sections": true,
   "sideBar": true,
   "skip_h1_title": false,
   "title_cell": "Table of Contents",
   "title_sidebar": "Contents",
   "toc_cell": false,
   "toc_position": {},
   "toc_section_display": "block",
   "toc_window_display": true
  }
 },
 "nbformat": 4,
 "nbformat_minor": 2
}
